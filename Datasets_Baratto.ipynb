{
  "nbformat": 4,
  "nbformat_minor": 0,
  "metadata": {
    "colab": {
      "provenance": [],
      "authorship_tag": "ABX9TyMpCyKdxcidtsJq1fpvC5ad",
      "include_colab_link": true
    },
    "kernelspec": {
      "name": "python3",
      "display_name": "Python 3"
    },
    "language_info": {
      "name": "python"
    }
  },
  "cells": [
    {
      "cell_type": "markdown",
      "metadata": {
        "id": "view-in-github",
        "colab_type": "text"
      },
      "source": [
        "<a href=\"https://colab.research.google.com/github/OttoBara/DataScience_Project_OnlineRetail/blob/main/Datasets_Baratto.ipynb\" target=\"_parent\"><img src=\"https://colab.research.google.com/assets/colab-badge.svg\" alt=\"Open In Colab\"/></a>"
      ]
    },
    {
      "cell_type": "markdown",
      "source": [
        "# **Introducción**\n",
        "Este análisis se basa en el dataset \"Online Retail\", que contiene transacciones de una tienda online entre diciembre de 2010 y diciembre de 2011. Los datos incluyen información sobre:\n",
        "\n",
        "- Número de factura (`InvoiceNo`).\n",
        "- Código y descripción del producto (`StockCode` y `Description`).\n",
        "- Cantidad de productos comprados (`Quantity`).\n",
        "- Precio unitario (`UnitPrice`).\n",
        "- Cliente (`CustomerID`) y país (`Country`).\n",
        "- Fecha de la transacción (`InvoiceDate`).\n",
        "\n",
        "El objetivo principal es analizar el comportamiento de los clientes para identificar patrones de compra, productos populares, y tendencias de mercado. Además, se busca segmentar a los clientes según su actividad e impacto en los ingresos.\n",
        "\n",
        "### **Objetivos específicos**\n",
        "1. Identificar los productos más vendidos y los que generan mayores ingresos.\n",
        "2. Analizar la distribución de ventas por país y determinar los principales mercados.\n",
        "3. Detectar patrones temporales en las transacciones (por ejemplo, estacionalidad).\n",
        "4. Clasificar a los clientes en \"Recurrentes\" y \"Nuevos\" según su historial.\n",
        "\n",
        "### **Preguntas de análisis**\n",
        "1. ¿Cuáles son los productos más populares y los más rentables?\n",
        "2. ¿Qué países contribuyen más a los ingresos totales de la tienda?\n",
        "3. ¿Las compras se concentran en ciertos días o meses del año?\n",
        "4. ¿Qué porcentaje de los ingresos es generado por los clientes más activos?\n",
        "5. ¿Existen patrones recurrentes en las transacciones de clientes específicos?\n",
        "\n",
        "### **Hipótesis iniciales**\n",
        "1. La mayoría de los ingresos provienen de clientes en el Reino Unido.\n",
        "2. Las compras tienden a aumentar en diciembre debido a la temporada navideña.\n",
        "3. Una pequeña fracción de productos genera la mayor parte de los ingresos (principio de Pareto: 80/20).\n",
        "4. Los clientes recurrentes gastan significativamente más que los nuevos clientes.\n"
      ],
      "metadata": {
        "id": "FKiN3JcOMjEQ"
      }
    },
    {
      "cell_type": "code",
      "source": [
        "# Librerías principales\n",
        "import pandas as pd  # Manipulación y análisis de datos\n",
        "import numpy as np  # Cálculos numéricos\n",
        "import matplotlib.pyplot as plt  # Gráficos básicos\n",
        "import seaborn as sns  # Gráficos avanzados y estéticos\n",
        "\n",
        "# Manejo de fechas\n",
        "from datetime import datetime\n",
        "\n",
        "# Manejo de archivos ZIP y rutas\n",
        "import zipfile  # Descompresión de archivos ZIP\n",
        "import os  # Manejo de archivos y directorios\n",
        "\n",
        "# Configuración opcional para gráficos\n",
        "sns.set(style=\"whitegrid\")  # Estilo para gráficos\n",
        "print(\"Librerías importadas correctamente\")\n"
      ],
      "metadata": {
        "colab": {
          "base_uri": "https://localhost:8080/"
        },
        "id": "mzdXd3179SD1",
        "outputId": "8f8775f6-6271-4931-cee7-fe6c7d39b97a"
      },
      "execution_count": null,
      "outputs": [
        {
          "output_type": "stream",
          "name": "stdout",
          "text": [
            "Librerías importadas correctamente\n"
          ]
        }
      ]
    },
    {
      "cell_type": "code",
      "source": [
        "# Montar Google Drive\n",
        "from google.colab import drive\n",
        "drive.mount('/content/drive')\n",
        "!ls '/content/drive/MyDrive/DataSets de DataSience 1'\n"
      ],
      "metadata": {
        "colab": {
          "base_uri": "https://localhost:8080/"
        },
        "id": "ghZWOIepFKar",
        "outputId": "b0287f6f-e584-4563-bba4-3196cdc2a9fe"
      },
      "execution_count": null,
      "outputs": [
        {
          "output_type": "stream",
          "name": "stdout",
          "text": [
            "Drive already mounted at /content/drive; to attempt to forcibly remount, call drive.mount(\"/content/drive\", force_remount=True).\n",
            "'Dataset 1 Online Retail.zip'\t\t  'Dataset 3 Amazon Sale Report.zip'\n",
            "'Dataset 2 Stores Sales Forecasting.zip'\n"
          ]
        }
      ]
    },
    {
      "cell_type": "code",
      "source": [
        "import zipfile\n",
        "\n",
        "# Ruta al archivo ZIP\n",
        "zip_path = '/content/drive/MyDrive/DataSets de DataSience 1/Dataset 1 Online Retail.zip'\n",
        "# Carpeta donde se descomprimirá\n",
        "extract_to = '/content/dataset_1/'\n",
        "\n",
        "# Descomprimir el archivo\n",
        "with zipfile.ZipFile(zip_path, 'r') as zip_ref:\n",
        "    zip_ref.extractall(extract_to)\n",
        "\n",
        "print(f\"Archivo descomprimido en: {extract_to}\")\n"
      ],
      "metadata": {
        "colab": {
          "base_uri": "https://localhost:8080/"
        },
        "id": "e1ZFSpauGdzQ",
        "outputId": "61264da3-56ab-426c-8709-b63e8d70803c"
      },
      "execution_count": null,
      "outputs": [
        {
          "output_type": "stream",
          "name": "stdout",
          "text": [
            "Archivo descomprimido en: /content/dataset_1/\n"
          ]
        }
      ]
    },
    {
      "cell_type": "markdown",
      "source": [
        "# **Carga y Exploración Inicial del Dataset**\n",
        "\n",
        "En esta sección se carga el archivo CSV del dataset Online Retail en un DataFrame de Pandas. Posteriormente, se realiza una exploración inicial para entender la estructura de los datos, el tipo de información que contienen las columnas, y se obtienen estadísticas descriptivas básicas de las columnas numéricas."
      ],
      "metadata": {
        "id": "5z2NRfuSL8tt"
      }
    },
    {
      "cell_type": "code",
      "source": [
        "# Ruta al archivo CSV descomprimido\n",
        "file_path = '/content/dataset_1/online_retail.csv'\n",
        "\n",
        "# Cargar el archivo CSV en un DataFrame\n",
        "data = pd.read_csv(file_path, encoding='latin1')\n",
        "\n",
        "# Exploración inicial del dataset\n",
        "print(\"Primeras filas del dataset:\")\n",
        "print(data.head())\n",
        "\n",
        "print(\"\\nInformación general del dataset:\")\n",
        "print(data.info())\n",
        "\n",
        "print(\"\\nDescripción estadística de las columnas numéricas:\")\n",
        "print(data.describe())\n"
      ],
      "metadata": {
        "colab": {
          "base_uri": "https://localhost:8080/"
        },
        "id": "ryh-NhjpHlNM",
        "outputId": "ff2fc7b1-6ac5-48f1-e27f-bb9d491fbb3a"
      },
      "execution_count": null,
      "outputs": [
        {
          "output_type": "stream",
          "name": "stdout",
          "text": [
            "Primeras filas del dataset:\n",
            "  InvoiceNo StockCode                          Description  Quantity  \\\n",
            "0    536365    85123A   WHITE HANGING HEART T-LIGHT HOLDER         6   \n",
            "1    536365     71053                  WHITE METAL LANTERN         6   \n",
            "2    536365    84406B       CREAM CUPID HEARTS COAT HANGER         8   \n",
            "3    536365    84029G  KNITTED UNION FLAG HOT WATER BOTTLE         6   \n",
            "4    536365    84029E       RED WOOLLY HOTTIE WHITE HEART.         6   \n",
            "\n",
            "           InvoiceDate  UnitPrice  CustomerID         Country  \n",
            "0  2010-12-01 08:26:00       2.55     17850.0  United Kingdom  \n",
            "1  2010-12-01 08:26:00       3.39     17850.0  United Kingdom  \n",
            "2  2010-12-01 08:26:00       2.75     17850.0  United Kingdom  \n",
            "3  2010-12-01 08:26:00       3.39     17850.0  United Kingdom  \n",
            "4  2010-12-01 08:26:00       3.39     17850.0  United Kingdom  \n",
            "\n",
            "Información general del dataset:\n",
            "<class 'pandas.core.frame.DataFrame'>\n",
            "RangeIndex: 541909 entries, 0 to 541908\n",
            "Data columns (total 8 columns):\n",
            " #   Column       Non-Null Count   Dtype  \n",
            "---  ------       --------------   -----  \n",
            " 0   InvoiceNo    541909 non-null  object \n",
            " 1   StockCode    541909 non-null  object \n",
            " 2   Description  540455 non-null  object \n",
            " 3   Quantity     541909 non-null  int64  \n",
            " 4   InvoiceDate  541909 non-null  object \n",
            " 5   UnitPrice    541909 non-null  float64\n",
            " 6   CustomerID   406829 non-null  float64\n",
            " 7   Country      541909 non-null  object \n",
            "dtypes: float64(2), int64(1), object(5)\n",
            "memory usage: 33.1+ MB\n",
            "None\n",
            "\n",
            "Descripción estadística de las columnas numéricas:\n",
            "            Quantity      UnitPrice     CustomerID\n",
            "count  541909.000000  541909.000000  406829.000000\n",
            "mean        9.552250       4.611114   15287.690570\n",
            "std       218.081158      96.759853    1713.600303\n",
            "min    -80995.000000  -11062.060000   12346.000000\n",
            "25%         1.000000       1.250000   13953.000000\n",
            "50%         3.000000       2.080000   15152.000000\n",
            "75%        10.000000       4.130000   16791.000000\n",
            "max     80995.000000   38970.000000   18287.000000\n"
          ]
        }
      ]
    },
    {
      "cell_type": "markdown",
      "source": [
        "# **Limpieza y Preparación de Datos**\n",
        "En esta sección se realiza la limpieza del dataset eliminando duplicados, manejando valores nulos, ajustando los tipos de datos y agregando columnas calculadas para facilitar futuros análisis."
      ],
      "metadata": {
        "id": "f3LEjtNeTLfD"
      }
    },
    {
      "cell_type": "code",
      "source": [
        "# Eliminar duplicados\n",
        "data = data.drop_duplicates()\n",
        "print(f\"Total de filas después de eliminar duplicados: {len(data)}\")\n",
        "\n",
        "# Verificar valores nulos\n",
        "print(\"\\nValores nulos por columna:\")\n",
        "print(data.isnull().sum())\n",
        "\n",
        "# Manejo de valores nulos\n",
        "# Rellenar los nulos en 'Description' con un texto por defecto\n",
        "data['Description'] = data['Description'].fillna('Sin descripción')\n",
        "print(f\"Valores nulos en 'Description' después de rellenar: {data['Description'].isnull().sum()}\")\n",
        "\n",
        "# Eliminar filas con nulos en 'CustomerID'\n",
        "data = data.dropna(subset=['CustomerID'])\n",
        "print(f\"Total de filas después de eliminar nulos en 'CustomerID': {len(data)}\")\n",
        "\n",
        "# Asegurar que 'InvoiceDate' esté en formato datetime\n",
        "data['InvoiceDate'] = pd.to_datetime(data['InvoiceDate'])\n",
        "\n",
        "# Revisar valores anómalos en 'Quantity' y 'UnitPrice'\n",
        "negativos = data[(data['Quantity'] < 0) | (data['UnitPrice'] < 0)]\n",
        "print(f\"\\nRegistros con valores negativos: {len(negativos)}\")\n",
        "print(negativos.head())\n",
        "\n",
        "# Opcional: Eliminar valores negativos\n",
        "data = data[(data['Quantity'] >= 0) & (data['UnitPrice'] >= 0)]\n",
        "print(f\"Total de filas después de eliminar valores negativos: {len(data)}\")\n",
        "\n",
        "# Crear una nueva columna 'TotalPrice' calculando el precio total de cada transacción\n",
        "data['TotalPrice'] = data['Quantity'] * data['UnitPrice']\n",
        "\n",
        "# Mostrar información del dataset limpio\n",
        "print(\"\\nInformación del dataset limpio:\")\n",
        "print(data.info())\n",
        "\n",
        "# Mostrar un resumen estadístico\n",
        "print(\"\\nResumen estadístico de las columnas numéricas:\")\n",
        "print(data.describe())\n"
      ],
      "metadata": {
        "colab": {
          "base_uri": "https://localhost:8080/"
        },
        "id": "saxUfPD8Ttlg",
        "outputId": "632a3018-a314-40ec-b369-75951a673db1"
      },
      "execution_count": null,
      "outputs": [
        {
          "output_type": "stream",
          "name": "stdout",
          "text": [
            "Total de filas después de eliminar duplicados: 536641\n",
            "\n",
            "Valores nulos por columna:\n",
            "InvoiceNo           0\n",
            "StockCode           0\n",
            "Description      1454\n",
            "Quantity            0\n",
            "InvoiceDate         0\n",
            "UnitPrice           0\n",
            "CustomerID     135037\n",
            "Country             0\n",
            "dtype: int64\n",
            "Valores nulos en 'Description' después de rellenar: 0\n",
            "Total de filas después de eliminar nulos en 'CustomerID': 401604\n",
            "\n",
            "Registros con valores negativos: 8872\n",
            "    InvoiceNo StockCode                       Description  Quantity  \\\n",
            "141   C536379         D                          Discount        -1   \n",
            "154   C536383    35004C   SET OF 3 COLOURED  FLYING DUCKS        -1   \n",
            "235   C536391     22556    PLASTERS IN TIN CIRCUS PARADE        -12   \n",
            "236   C536391     21984  PACK OF 12 PINK PAISLEY TISSUES        -24   \n",
            "237   C536391     21983  PACK OF 12 BLUE PAISLEY TISSUES        -24   \n",
            "\n",
            "            InvoiceDate  UnitPrice  CustomerID         Country  \n",
            "141 2010-12-01 09:41:00      27.50     14527.0  United Kingdom  \n",
            "154 2010-12-01 09:49:00       4.65     15311.0  United Kingdom  \n",
            "235 2010-12-01 10:24:00       1.65     17548.0  United Kingdom  \n",
            "236 2010-12-01 10:24:00       0.29     17548.0  United Kingdom  \n",
            "237 2010-12-01 10:24:00       0.29     17548.0  United Kingdom  \n",
            "Total de filas después de eliminar valores negativos: 392732\n",
            "\n",
            "Información del dataset limpio:\n"
          ]
        },
        {
          "output_type": "stream",
          "name": "stderr",
          "text": [
            "<ipython-input-7-1cb1ad4ab4bc>:19: SettingWithCopyWarning: \n",
            "A value is trying to be set on a copy of a slice from a DataFrame.\n",
            "Try using .loc[row_indexer,col_indexer] = value instead\n",
            "\n",
            "See the caveats in the documentation: https://pandas.pydata.org/pandas-docs/stable/user_guide/indexing.html#returning-a-view-versus-a-copy\n",
            "  data['InvoiceDate'] = pd.to_datetime(data['InvoiceDate'])\n",
            "<ipython-input-7-1cb1ad4ab4bc>:31: SettingWithCopyWarning: \n",
            "A value is trying to be set on a copy of a slice from a DataFrame.\n",
            "Try using .loc[row_indexer,col_indexer] = value instead\n",
            "\n",
            "See the caveats in the documentation: https://pandas.pydata.org/pandas-docs/stable/user_guide/indexing.html#returning-a-view-versus-a-copy\n",
            "  data['TotalPrice'] = data['Quantity'] * data['UnitPrice']\n"
          ]
        },
        {
          "output_type": "stream",
          "name": "stdout",
          "text": [
            "<class 'pandas.core.frame.DataFrame'>\n",
            "Index: 392732 entries, 0 to 541908\n",
            "Data columns (total 9 columns):\n",
            " #   Column       Non-Null Count   Dtype         \n",
            "---  ------       --------------   -----         \n",
            " 0   InvoiceNo    392732 non-null  object        \n",
            " 1   StockCode    392732 non-null  object        \n",
            " 2   Description  392732 non-null  object        \n",
            " 3   Quantity     392732 non-null  int64         \n",
            " 4   InvoiceDate  392732 non-null  datetime64[ns]\n",
            " 5   UnitPrice    392732 non-null  float64       \n",
            " 6   CustomerID   392732 non-null  float64       \n",
            " 7   Country      392732 non-null  object        \n",
            " 8   TotalPrice   392732 non-null  float64       \n",
            "dtypes: datetime64[ns](1), float64(3), int64(1), object(4)\n",
            "memory usage: 30.0+ MB\n",
            "None\n",
            "\n",
            "Resumen estadístico de las columnas numéricas:\n",
            "            Quantity                    InvoiceDate      UnitPrice  \\\n",
            "count  392732.000000                         392732  392732.000000   \n",
            "mean       13.153718  2011-07-10 19:15:24.576301568       3.125596   \n",
            "min         1.000000            2010-12-01 08:26:00       0.000000   \n",
            "25%         2.000000            2011-04-07 11:12:00       1.250000   \n",
            "50%         6.000000            2011-07-31 12:02:00       1.950000   \n",
            "75%        12.000000            2011-10-20 12:53:00       3.750000   \n",
            "max     80995.000000            2011-12-09 12:50:00    8142.750000   \n",
            "std       181.588420                            NaN      22.240725   \n",
            "\n",
            "          CustomerID     TotalPrice  \n",
            "count  392732.000000  392732.000000  \n",
            "mean    15287.734822      22.629195  \n",
            "min     12346.000000       0.000000  \n",
            "25%     13955.000000       4.950000  \n",
            "50%     15150.000000      12.390000  \n",
            "75%     16791.000000      19.800000  \n",
            "max     18287.000000  168469.600000  \n",
            "std      1713.567773     311.083465  \n"
          ]
        }
      ]
    },
    {
      "cell_type": "markdown",
      "source": [
        "# **Limpieza de Datos**\n",
        "- Se eliminaron duplicados para evitar registros repetidos.\n",
        "- Se manejaron valores nulos en las columnas clave:\n",
        "  - 'Description' se rellenó con \"Sin descripción\".\n",
        "  - Las filas con nulos en 'CustomerID' fueron eliminadas.\n",
        "- Se convirtieron los datos en 'InvoiceDate' al formato datetime para facilitar su manejo.\n",
        "- Se identificaron y eliminaron registros con valores negativos en 'Quantity' y 'UnitPrice', ya que no son válidos para el análisis.\n",
        "- Se añadió una nueva columna 'TotalPrice' que representa el precio total de cada transacción.\n"
      ],
      "metadata": {
        "id": "_tElVsRAUII4"
      }
    },
    {
      "cell_type": "markdown",
      "source": [
        "# **Enriquecimiento del Dataset**\n",
        "En esta sección, se agregan nuevas columnas calculadas al dataset para facilitar el análisis y proporcionar insights adicionales. Estas columnas están diseñadas para capturar diferentes características de los datos, como patrones temporales, segmentación de clientes, clasificaciones basadas en precios y contribuciones al ingreso total.\n",
        "\n",
        "Las columnas añadidas son:\n",
        "\n",
        "PriceCategory: Clasificación de las transacciones según el monto total (bajo, medio, alto).\n",
        "IsWeekend: Indica si la transacción ocurrió durante el fin de semana (sábado o domingo).\n",
        "Year, Month y DayOfWeek: Información temporal de la transacción (año, mes, día de la semana).\n",
        "Hour: Hora en la que se realizó la transacción.\n",
        "CountryGroup: Agrupa los países según regiones, como \"Europa\" u \"Otros\".\n",
        "CustomerType: Clasificación de clientes como \"Recurrentes\" o \"Nuevos\".\n",
        "TransactionType: Indica si la transacción fue una \"Venta\" o una \"Devolución\".\n",
        "DiscountFlag: Identifica si la transacción incluyó un descuento.\n",
        "UnitPriceCategory: Clasificación del precio unitario (muy bajo, bajo, medio, alto).\n",
        "RevenueContribution: Porcentaje de contribución al ingreso total por transacción.\n",
        "TransactionDuration: Tiempo entre transacciones de un mismo cliente.\n",
        "TotalItems: Total de productos vendidos por factura.\n",
        "HighValueCustomer: Etiqueta a los clientes de alto valor basándose en su gasto total acumulado.\n",
        "Estas nuevas columnas permiten analizar mejor los datos desde múltiples perspectivas y segmentar la información de forma más significativa."
      ],
      "metadata": {
        "id": "E43pTc7jaDTQ"
      }
    },
    {
      "cell_type": "code",
      "source": [
        "# Agregar columnas nuevas al dataset\n",
        "\n",
        "# Columna 1: PriceCategory - Clasificación según TotalPrice\n",
        "def categorize_price(price):\n",
        "    if price < 20:\n",
        "        return 'Bajo'\n",
        "    elif 20 <= price < 100:\n",
        "        return 'Medio'\n",
        "    else:\n",
        "        return 'Alto'\n",
        "\n",
        "data['PriceCategory'] = data['TotalPrice'].apply(categorize_price)\n",
        "\n",
        "# Columna 2: IsWeekend - Si ocurrió en fin de semana\n",
        "data['IsWeekend'] = data['InvoiceDate'].dt.dayofweek.isin([5, 6])\n",
        "\n",
        "# Columna 3: Year - Año de la transacción\n",
        "data['Year'] = data['InvoiceDate'].dt.year\n",
        "\n",
        "# Columna 4: Month - Mes de la transacción\n",
        "data['Month'] = data['InvoiceDate'].dt.month\n",
        "\n",
        "# Columna 5: DayOfWeek - Día de la semana (nombre)\n",
        "data['DayOfWeek'] = data['InvoiceDate'].dt.day_name()\n",
        "\n",
        "# Columna 6: Hour - Hora del día\n",
        "data['Hour'] = data['InvoiceDate'].dt.hour\n",
        "\n",
        "# Columna 7: CountryGroup - Agrupar países\n",
        "europe = ['United Kingdom', 'France', 'Germany', 'Netherlands', 'Belgium', 'Switzerland', 'Portugal', 'Spain', 'Italy']\n",
        "data['CountryGroup'] = data['Country'].apply(lambda x: 'Europa' if x in europe else 'Otros')\n",
        "\n",
        "# Columna 8: CustomerType - Etiquetar cliente como \"Recurrente\" o \"Nuevo\"\n",
        "unique_customers = data['CustomerID'].unique()\n",
        "data['CustomerType'] = data['CustomerID'].apply(lambda x: 'Recurrente' if x in unique_customers else 'Nuevo')\n",
        "\n",
        "# Columna 9: TransactionType - Venta o Devolución\n",
        "data['TransactionType'] = data['Quantity'].apply(lambda x: 'Devolución' if x < 0 else 'Venta')\n",
        "\n",
        "# Columna 10: DiscountFlag - Marca si se aplicó descuento\n",
        "data['DiscountFlag'] = data['Description'].str.contains('Discount', case=False, na=False)\n",
        "\n",
        "# Columna 11: UnitPriceCategory - Clasificación del precio unitario\n",
        "def categorize_unit_price(price):\n",
        "    if price < 1:\n",
        "        return 'Muy Bajo'\n",
        "    elif 1 <= price < 5:\n",
        "        return 'Bajo'\n",
        "    elif 5 <= price < 20:\n",
        "        return 'Medio'\n",
        "    else:\n",
        "        return 'Alto'\n",
        "\n",
        "data['UnitPriceCategory'] = data['UnitPrice'].apply(categorize_unit_price)\n",
        "\n",
        "# Columna 12: RevenueContribution - Porcentaje de contribución al ingreso total\n",
        "total_revenue = data['TotalPrice'].sum()\n",
        "data['RevenueContribution'] = (data['TotalPrice'] / total_revenue) * 100\n",
        "\n",
        "# Columna 13: TransactionDuration - Tiempo entre transacciones del mismo cliente\n",
        "data = data.sort_values(by=['CustomerID', 'InvoiceDate'])\n",
        "data['TransactionDuration'] = data.groupby('CustomerID')['InvoiceDate'].diff().dt.total_seconds()\n",
        "\n",
        "# Columna 14: TotalItems - Total de productos por factura\n",
        "data['TotalItems'] = data.groupby('InvoiceNo')['Quantity'].transform('sum')\n",
        "\n",
        "# Columna 15: HighValueCustomer - Etiqueta cliente de \"alto valor\"\n",
        "customer_total = data.groupby('CustomerID')['TotalPrice'].sum()\n",
        "high_value_threshold = customer_total.quantile(0.75)  # Umbral del percentil 75\n",
        "data['HighValueCustomer'] = data['CustomerID'].apply(lambda x: 'Si' if customer_total[x] > high_value_threshold else 'No')\n",
        "\n",
        "# Mostrar las primeras filas del dataset con las nuevas columnas\n",
        "print(\"\\nNuevas columnas añadidas al dataset:\")\n",
        "print(data.head())\n",
        "\n",
        "# Verificar las nuevas columnas añadidas\n",
        "print(\"\\nColumnas actuales en el dataset:\")\n",
        "print(data.columns)\n"
      ],
      "metadata": {
        "colab": {
          "base_uri": "https://localhost:8080/"
        },
        "id": "XtV-dyP9ZfxX",
        "outputId": "700cdca3-3766-45a3-c3b8-d2437c4f41aa"
      },
      "execution_count": null,
      "outputs": [
        {
          "output_type": "stream",
          "name": "stdout",
          "text": [
            "\n",
            "Nuevas columnas añadidas al dataset:\n",
            "      InvoiceNo StockCode                        Description  Quantity  \\\n",
            "61619    541431     23166     MEDIUM CERAMIC TOP STORAGE JAR     74215   \n",
            "14938    537626     85116    BLACK CANDELABRA T-LIGHT HOLDER        12   \n",
            "14939    537626     22375  AIRLINE BAG VINTAGE JET SET BROWN         4   \n",
            "14940    537626     71477  COLOUR GLASS. STAR T-LIGHT HOLDER        12   \n",
            "14941    537626     22492            MINI PAINT SET VINTAGE         36   \n",
            "\n",
            "              InvoiceDate  UnitPrice  CustomerID         Country  TotalPrice  \\\n",
            "61619 2011-01-18 10:01:00       1.04     12346.0  United Kingdom     77183.6   \n",
            "14938 2010-12-07 14:57:00       2.10     12347.0         Iceland        25.2   \n",
            "14939 2010-12-07 14:57:00       4.25     12347.0         Iceland        17.0   \n",
            "14940 2010-12-07 14:57:00       3.25     12347.0         Iceland        39.0   \n",
            "14941 2010-12-07 14:57:00       0.65     12347.0         Iceland        23.4   \n",
            "\n",
            "      PriceCategory  ...  Hour  CountryGroup  CustomerType TransactionType  \\\n",
            "61619          Alto  ...    10        Europa    Recurrente           Venta   \n",
            "14938         Medio  ...    14         Otros    Recurrente           Venta   \n",
            "14939          Bajo  ...    14         Otros    Recurrente           Venta   \n",
            "14940         Medio  ...    14         Otros    Recurrente           Venta   \n",
            "14941         Medio  ...    14         Otros    Recurrente           Venta   \n",
            "\n",
            "       DiscountFlag UnitPriceCategory RevenueContribution TransactionDuration  \\\n",
            "61619         False              Bajo            0.868480                 NaN   \n",
            "14938         False              Bajo            0.000284                 NaN   \n",
            "14939         False              Bajo            0.000191                 0.0   \n",
            "14940         False              Bajo            0.000439                 0.0   \n",
            "14941         False          Muy Bajo            0.000263                 0.0   \n",
            "\n",
            "       TotalItems HighValueCustomer  \n",
            "61619       74215                Si  \n",
            "14938         319                Si  \n",
            "14939         319                Si  \n",
            "14940         319                Si  \n",
            "14941         319                Si  \n",
            "\n",
            "[5 rows x 24 columns]\n",
            "\n",
            "Columnas actuales en el dataset:\n",
            "Index(['InvoiceNo', 'StockCode', 'Description', 'Quantity', 'InvoiceDate',\n",
            "       'UnitPrice', 'CustomerID', 'Country', 'TotalPrice', 'PriceCategory',\n",
            "       'IsWeekend', 'Year', 'Month', 'DayOfWeek', 'Hour', 'CountryGroup',\n",
            "       'CustomerType', 'TransactionType', 'DiscountFlag', 'UnitPriceCategory',\n",
            "       'RevenueContribution', 'TransactionDuration', 'TotalItems',\n",
            "       'HighValueCustomer'],\n",
            "      dtype='object')\n"
          ]
        }
      ]
    },
    {
      "cell_type": "code",
      "source": [
        "# Guardar el dataset enriquecido en un archivo CSV\n",
        "data.to_csv('/content/dataset_enriched_cleaned.csv', index=False)\n",
        "print(\"Dataset enriquecido guardado como 'dataset_enriched_cleaned.csv'\")\n"
      ],
      "metadata": {
        "colab": {
          "base_uri": "https://localhost:8080/"
        },
        "id": "dHaqA5BxaPA4",
        "outputId": "881b1a37-961e-4aa3-b3fd-78e943f925fc"
      },
      "execution_count": null,
      "outputs": [
        {
          "output_type": "stream",
          "name": "stdout",
          "text": [
            "Dataset enriquecido guardado como 'dataset_enriched_cleaned.csv'\n"
          ]
        }
      ]
    }
  ]
}